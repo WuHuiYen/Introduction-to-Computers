{
  "nbformat": 4,
  "nbformat_minor": 0,
  "metadata": {
    "colab": {
      "provenance": [],
      "authorship_tag": "ABX9TyPACGPFr72zMrLGCbM1rAQ1",
      "include_colab_link": true
    },
    "kernelspec": {
      "name": "python3",
      "display_name": "Python 3"
    },
    "language_info": {
      "name": "python"
    }
  },
  "cells": [
    {
      "cell_type": "markdown",
      "metadata": {
        "id": "view-in-github",
        "colab_type": "text"
      },
      "source": [
        "<a href=\"https://colab.research.google.com/github/WuHuiYen/Introduction-to-Computers/blob/main/0320.ipynb\" target=\"_parent\"><img src=\"https://colab.research.google.com/assets/colab-badge.svg\" alt=\"Open In Colab\"/></a>"
      ]
    },
    {
      "cell_type": "code",
      "execution_count": 4,
      "metadata": {
        "colab": {
          "base_uri": "https://localhost:8080/"
        },
        "id": "-ODvKIzbB4r0",
        "outputId": "d938edaf-2a89-406d-c1fd-b40af8ed7980"
      },
      "outputs": [
        {
          "output_type": "stream",
          "name": "stdout",
          "text": [
            "請輸入國文成績:50\n",
            "請輸入英文成績:60\n",
            "請輸入數學成績:70\n",
            "你的成績總分為: 180\n"
          ]
        }
      ],
      "source": [
        "a = int(input('請輸入國文成績:'))\n",
        "b = int(input('請輸入英文成績:'))\n",
        "c = int(input('請輸入數學成績:'))\n",
        "d = a + b + c\n",
        "print('你的成績總分為:',d)"
      ]
    },
    {
      "cell_type": "code",
      "source": [
        "上底 = int(input('請輸入梯形上底長度:'))\n",
        "下底 = int(input('請輸入梯形下底長度:'))\n",
        "高 = int(input('請輸入梯形高度:'))\n",
        "面積 = (上底 + 下底) * 高 / 2\n",
        "print('梯形面積為:',面積)"
      ],
      "metadata": {
        "colab": {
          "base_uri": "https://localhost:8080/"
        },
        "id": "hkqloP7lCn6y",
        "outputId": "10b23b61-8f32-464c-cdee-f3c4e97f5077"
      },
      "execution_count": 17,
      "outputs": [
        {
          "output_type": "stream",
          "name": "stdout",
          "text": [
            "請輸入梯形上底長度:3\n",
            "請輸入梯形下底長度:4\n",
            "請輸入梯形高度:3\n",
            "梯形面積為: 10.5\n"
          ]
        }
      ]
    },
    {
      "cell_type": "code",
      "source": [
        "h = int(input('請輸入您的身高(cm):'))\n",
        "w = int(input('請輸入您的體重(kg):'))\n",
        "BMI = w / (h / 100) ** 2\n",
        "print('BMI值為:',BMI)"
      ],
      "metadata": {
        "colab": {
          "base_uri": "https://localhost:8080/"
        },
        "id": "GXF3lbSlCoi3",
        "outputId": "e60085d3-90ba-4907-cb61-9525e9685828"
      },
      "execution_count": 22,
      "outputs": [
        {
          "output_type": "stream",
          "name": "stdout",
          "text": [
            "請輸入您的身高(cm):180\n",
            "請輸入您的體重(kg):80\n",
            "BMI值為: 24.691358024691358\n"
          ]
        }
      ]
    }
  ]
}